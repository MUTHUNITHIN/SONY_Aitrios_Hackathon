{
 "cells": [
  {
   "cell_type": "code",
   "execution_count": 13,
   "id": "79488985-9475-4065-9b90-7fc4173d2b6f",
   "metadata": {},
   "outputs": [],
   "source": [
    "import cv2\n",
    "import os\n",
    "from ultralytics import YOLO\n",
    "\n",
    "# Directory to save frames\n",
    "SAVE_DIR = \"E:\\\\swift\\\\ultralytics\\\\results\\\\frames\"\n",
    "os.makedirs(SAVE_DIR, exist_ok=True)"
   ]
  },
  {
   "cell_type": "code",
   "execution_count": 14,
   "id": "b308bad7-1bf6-46e3-a850-7f8501d846a7",
   "metadata": {},
   "outputs": [],
   "source": [
    "# Load YOLO model\n",
    "model = YOLO(\"Swift.pt\")  # pretrained YOLO model\n",
    "\n",
    "# Class costs\n",
    "class_costs = {\n",
    "    \"biscuit\": 20,\n",
    "    \"chips\": 10,\n",
    "    \"chocolate\": 40,\n",
    "    \"juice\": 30,\n",
    "    \"milk\": 50,\n",
    "    \"paste\": 20,\n",
    "    \"soap\": 50,\n",
    "}"
   ]
  },
  {
   "cell_type": "code",
   "execution_count": 15,
   "id": "cb372408-dc41-4642-adfe-2439ca7a0dce",
   "metadata": {},
   "outputs": [
    {
     "name": "stdout",
     "output_type": "stream",
     "text": [
      "Press 's' to save frame, 'q' to quit.\n",
      "Frame saved: E:\\swift\\ultralytics\\results\\frames\\frame_1.jpg\n",
      "Processing saved frames...\n",
      "\n",
      "0: 480x640 1 soap, 106.5ms\n",
      "Speed: 5.0ms preprocess, 106.5ms inference, 1.0ms postprocess per image at shape (1, 3, 480, 640)\n",
      "********************************\n",
      "Image 1:\n",
      "Class: soap, Cost: 50\n",
      "********************************\n",
      "Total Cost: 50\n",
      "********************************\n"
     ]
    }
   ],
   "source": [
    "# Initialize video capture\n",
    "#cap = cv2.VideoCapture(\"http://192.168.19.156:4747/video\")\n",
    "cap = cv2.VideoCapture(\"http://192.168.132.176:4747/video\")\n",
    "\n",
    "#cap = cv2.VideoCapture(0)\n",
    "\n",
    "print(\"Press 's' to save frame, 'q' to quit.\")\n",
    "\n",
    "while True:\n",
    "    ret, frame = cap.read()\n",
    "    if not ret:\n",
    "        print(\"Failed to grab frame.\")\n",
    "        break\n",
    "\n",
    "    cv2.imshow(\"Frame\", frame)\n",
    "\n",
    "    # Capture key press\n",
    "    key = cv2.waitKey(1) & 0xFF\n",
    "\n",
    "    if key == ord(\"s\"):  # Save frame if \"s\" is pressed\n",
    "        frame_name = os.path.join(SAVE_DIR, f\"frame_{len(os.listdir(SAVE_DIR)) + 1}.jpg\")\n",
    "        cv2.imwrite(frame_name, frame)\n",
    "        print(f\"Frame saved: {frame_name}\")\n",
    "    elif key == ord(\"q\"):  # Quit if \"q\" is pressed\n",
    "        break\n",
    "\n",
    "cap.release()\n",
    "cv2.destroyAllWindows()\n",
    "\n",
    "# Process saved images\n",
    "saved_images = [os.path.join(SAVE_DIR, img) for img in os.listdir(SAVE_DIR) if img.endswith(\".jpg\")]\n",
    "\n",
    "if not saved_images:\n",
    "    print(\"No frames saved to process.\")\n",
    "else:\n",
    "    print(\"Processing saved frames...\")\n",
    "    results = model(saved_images)  # Run inference on saved images\n",
    "\n",
    "    # Initialize a variable to store detected class names and costs\n",
    "    detected_classes_with_costs = []\n",
    "\n",
    "    # Process results\n",
    "    for result in results:\n",
    "        if result.boxes:\n",
    "            class_names_and_costs = [\n",
    "                {\n",
    "                    \"class_name\": model.names[int(box.cls)],\n",
    "                    \"cost\": class_costs.get(model.names[int(box.cls)], \"N/A\"),  # Default to \"N/A\" if no cost is specified\n",
    "                }\n",
    "                for box in result.boxes\n",
    "            ]\n",
    "        else:\n",
    "            class_names_and_costs = []\n",
    "\n",
    "        detected_classes_with_costs.append(class_names_and_costs)\n",
    "        result.show()  # Display result\n",
    "        result.save()  # Save visualized result\n",
    "\n",
    "    print(\"********************************\")\n",
    "    total_cost = 0\n",
    "    for image_idx, detections in enumerate(detected_classes_with_costs):\n",
    "        print(f\"Image {image_idx + 1}:\")\n",
    "        for detection in detections:\n",
    "            print(f\"Class: {detection['class_name']}, Cost: {detection['cost']}\")\n",
    "            if isinstance(detection[\"cost\"], int):  # Ensure cost is numeric\n",
    "                total_cost += detection[\"cost\"]\n",
    "\n",
    "    print(\"********************************\")\n",
    "    print(f\"Total Cost: {total_cost}\")\n",
    "    print(\"********************************\")"
   ]
  },
  {
   "cell_type": "code",
   "execution_count": null,
   "id": "2db5fee7-8c78-46f7-8443-7db79f4c0805",
   "metadata": {},
   "outputs": [],
   "source": []
  }
 ],
 "metadata": {
  "kernelspec": {
   "display_name": "Python 3 (ipykernel)",
   "language": "python",
   "name": "python3"
  },
  "language_info": {
   "codemirror_mode": {
    "name": "ipython",
    "version": 3
   },
   "file_extension": ".py",
   "mimetype": "text/x-python",
   "name": "python",
   "nbconvert_exporter": "python",
   "pygments_lexer": "ipython3",
   "version": "3.10.16"
  }
 },
 "nbformat": 4,
 "nbformat_minor": 5
}
